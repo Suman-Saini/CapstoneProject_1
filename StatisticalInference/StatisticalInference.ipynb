{
 "cells": [
  {
   "cell_type": "markdown",
   "metadata": {},
   "source": [
    "# Statistical Data Analysis"
   ]
  },
  {
   "cell_type": "markdown",
   "metadata": {},
   "source": [
    "__Q] Are there variables that are particularly significant in terms of explaining the answer to your project question?__\n",
    "\n",
    "__A]__ _In the project, we are aiming to identify the fraud transactions. On initial observation, the variables which seems significant in identifying the purpose are card1-card6, C1-C14, TransactionDT and D1-D5. These variables seems to have significant role in deciding whether the isFraud should be set to 1 (Fraud) or 0 (Non-fraud). But, wihthin these variables, there is no direct correlation or any linear relation as well. Hence, we need to further investigate to find actual relationship to establish their significance._"
   ]
  },
  {
   "cell_type": "markdown",
   "metadata": {},
   "source": [
    "__Q] Are there significant differences between subgroups in your data that may be relevant to your project aim?__\n",
    "\n",
    "__A]__ _Based on initial exploration, there is no significance found between data variables which can be directly relevant towards project's aim._"
   ]
  },
  {
   "cell_type": "markdown",
   "metadata": {},
   "source": [
    "__Q] Are there strong correlations between pairs of independent variables or between an independent and a dependent variable?__\n",
    "\n",
    "__A]__ _Below we have tried to find coefficient of determination (R-squared) to identify the correlations. In this project, the dependent variable is 'isFraud' variable as we are interested in identifying how this variable is affected by other independent variables or pairs of independent variables._\n",
    "\n",
    "_Based on previous data exploration, the variables did not have any linear correlations. So, here we are trying to find if there is any proportion of the variance or fluctuation of one variable that is predictable from the other variable. Hence, we are calculating coefficient of determination._\n",
    "\n",
    "_The coefficient of determination is the ratio of the explained variation to the total variation. The coefficient of determination is such that $0 <  r^2 < 1$,  and denotes the strength of the linear association between x and y. The coefficient of determination represents the percent of the data that is the closest to the line of best fit._"
   ]
  },
  {
   "cell_type": "code",
   "execution_count": 1,
   "metadata": {},
   "outputs": [],
   "source": [
    "import pandas as pd\n",
    "import numpy as np\n",
    "import matplotlib.pyplot as plt\n",
    "import statsmodels.formula.api as smf\n",
    "from sklearn.linear_model import LinearRegression"
   ]
  },
  {
   "cell_type": "code",
   "execution_count": 2,
   "metadata": {
    "scrolled": true
   },
   "outputs": [],
   "source": [
    "df_identity = pd.read_csv('train_identity.csv')\n",
    "df_transaction = pd.read_csv('train_transaction.csv')"
   ]
  },
  {
   "cell_type": "code",
   "execution_count": 3,
   "metadata": {
    "scrolled": true
   },
   "outputs": [
    {
     "name": "stderr",
     "output_type": "stream",
     "text": [
      "//anaconda3/lib/python3.7/site-packages/pandas/core/indexing.py:190: SettingWithCopyWarning: \n",
      "A value is trying to be set on a copy of a slice from a DataFrame\n",
      "\n",
      "See the caveats in the documentation: http://pandas.pydata.org/pandas-docs/stable/indexing.html#indexing-view-versus-copy\n",
      "  self._setitem_with_indexer(indexer, value)\n"
     ]
    }
   ],
   "source": [
    "# The unique values for the below mentioned columns are 'Found' and 'NotFound'.\n",
    "# Hence, making these columns datatype as 'Category'.\n",
    "df_identity['id_12'] = pd.Categorical(values = df_identity['id_12'], categories = ['Found','NotFound'])\n",
    "df_identity['id_15'] = pd.Categorical(values = df_identity['id_15'], categories = ['Found','NotFound','New'])\n",
    "df_identity['id_16'] = pd.Categorical(values = df_identity['id_16'], categories = ['Found','NotFound'])\n",
    "df_identity['id_27'] = pd.Categorical(values = df_identity['id_27'], categories = ['Found','NotFound'])\n",
    "df_identity['id_28'] = pd.Categorical(values = df_identity['id_28'], categories = ['Found','NotFound','New'])\n",
    "df_identity['id_29'] = pd.Categorical(values = df_identity['id_29'], categories = ['Found','NotFound'])\n",
    "\n",
    "# For below mentioned columns updating the string values 'T' and 'F' to\n",
    "# '1' and '0' respectively.\n",
    "mapValues = {'T': 1, 'F': 0}\n",
    "df_identity['id_35'] = df_identity['id_35'].map(mapValues)\n",
    "df_identity['id_36'] = df_identity['id_36'].map(mapValues)\n",
    "df_identity['id_37'] = df_identity['id_37'].map(mapValues)\n",
    "df_identity['id_38'] = df_identity['id_38'].map(mapValues)\n",
    "\n",
    "# Since, most of the columns have values as 'NaN' where 'id_35' is equal to 'NaN', hence\n",
    "# removing those rows from the dataset. This removes only 2.25% of total data\n",
    "#df1 = df1[df1['id_35'].notnull()]\n",
    "\n",
    "# Replacing the NaN values of 'DeviceType' column with 'desktop' because as per analysis\n",
    "# for the mentioned 'DeviceInfo' and its combination with column 'id_31', the device type is equal to 'desktop'\n",
    "df_identity['DeviceType'].loc[df_identity['DeviceInfo'].isin(['Windows','rv:11.0','Trident/7.0'])] = 'desktop'\n",
    "\n",
    "####################################################################################\n",
    "\n",
    "# Adding new column TransactionDay by calculating the value from TransactionDT column\n",
    "# math.ceil returns smallest integer greater than the provided value.\n",
    "df_transaction['TransactionDay']=np.ceil(df_transaction['TransactionDT']/60/60/24).astype('int')\n",
    "\n",
    "# Replacing NaN values of card4 based on common card1 values\n",
    "df_transaction.loc[df_transaction.card4.isnull(), 'card4'] = \\\n",
    "df_transaction.loc[df_transaction.card4.isnull(), 'card1'].map(df_transaction[df_transaction.card4.notnull()] \\\n",
    "                    [['card1','card4']].sort_values('card1').drop_duplicates().set_index('card1')['card4'])\n",
    "\n",
    "#Replace few card6 values to valid specific values\n",
    "df_transaction.card6.replace(to_replace=['debit or credit'], value=['debit'],inplace=True)\n",
    "df_transaction.card6.replace(to_replace=['charge card'], value=['credit'],inplace=True)\n",
    "\n",
    "# For below mentioned columns updating the string values 'T' and 'F' to\n",
    "# '1' and '0' respectively.\n",
    "df_transaction['M1'] = df_transaction['M1'].map(mapValues)\n",
    "df_transaction['M2'] = df_transaction['M2'].map(mapValues)\n",
    "df_transaction['M3'] = df_transaction['M3'].map(mapValues)\n",
    "df_transaction['M5'] = df_transaction['M5'].map(mapValues)\n",
    "df_transaction['M6'] = df_transaction['M6'].map(mapValues)\n",
    "df_transaction['M7'] = df_transaction['M7'].map(mapValues)\n",
    "df_transaction['M8'] = df_transaction['M8'].map(mapValues)\n",
    "df_transaction['M9'] = df_transaction['M9'].map(mapValues)"
   ]
  },
  {
   "cell_type": "code",
   "execution_count": 4,
   "metadata": {},
   "outputs": [],
   "source": [
    "# Creating main dataset by merging both the DataFrames created from two csv files\n",
    "dataset = pd.merge(df_transaction,df_identity,on='TransactionID',how='left')"
   ]
  },
  {
   "cell_type": "code",
   "execution_count": 5,
   "metadata": {
    "scrolled": false
   },
   "outputs": [
    {
     "data": {
      "text/plain": [
       "(590540, 435)"
      ]
     },
     "execution_count": 5,
     "metadata": {},
     "output_type": "execute_result"
    }
   ],
   "source": [
    "dataset.shape"
   ]
  },
  {
   "cell_type": "code",
   "execution_count": 6,
   "metadata": {
    "scrolled": true
   },
   "outputs": [
    {
     "data": {
      "text/html": [
       "<div>\n",
       "<style scoped>\n",
       "    .dataframe tbody tr th:only-of-type {\n",
       "        vertical-align: middle;\n",
       "    }\n",
       "\n",
       "    .dataframe tbody tr th {\n",
       "        vertical-align: top;\n",
       "    }\n",
       "\n",
       "    .dataframe thead th {\n",
       "        text-align: right;\n",
       "    }\n",
       "</style>\n",
       "<table border=\"1\" class=\"dataframe\">\n",
       "  <thead>\n",
       "    <tr style=\"text-align: right;\">\n",
       "      <th></th>\n",
       "      <th>TransactionID</th>\n",
       "      <th>isFraud</th>\n",
       "      <th>TransactionDT</th>\n",
       "      <th>TransactionAmt</th>\n",
       "      <th>ProductCD</th>\n",
       "      <th>card1</th>\n",
       "      <th>card2</th>\n",
       "      <th>card3</th>\n",
       "      <th>card4</th>\n",
       "      <th>card5</th>\n",
       "      <th>...</th>\n",
       "      <th>id_31</th>\n",
       "      <th>id_32</th>\n",
       "      <th>id_33</th>\n",
       "      <th>id_34</th>\n",
       "      <th>id_35</th>\n",
       "      <th>id_36</th>\n",
       "      <th>id_37</th>\n",
       "      <th>id_38</th>\n",
       "      <th>DeviceType</th>\n",
       "      <th>DeviceInfo</th>\n",
       "    </tr>\n",
       "  </thead>\n",
       "  <tbody>\n",
       "    <tr>\n",
       "      <th>0</th>\n",
       "      <td>2987000</td>\n",
       "      <td>0</td>\n",
       "      <td>86400</td>\n",
       "      <td>68.5</td>\n",
       "      <td>W</td>\n",
       "      <td>13926</td>\n",
       "      <td>NaN</td>\n",
       "      <td>150.0</td>\n",
       "      <td>discover</td>\n",
       "      <td>142.0</td>\n",
       "      <td>...</td>\n",
       "      <td>NaN</td>\n",
       "      <td>NaN</td>\n",
       "      <td>NaN</td>\n",
       "      <td>NaN</td>\n",
       "      <td>NaN</td>\n",
       "      <td>NaN</td>\n",
       "      <td>NaN</td>\n",
       "      <td>NaN</td>\n",
       "      <td>NaN</td>\n",
       "      <td>NaN</td>\n",
       "    </tr>\n",
       "    <tr>\n",
       "      <th>1</th>\n",
       "      <td>2987001</td>\n",
       "      <td>0</td>\n",
       "      <td>86401</td>\n",
       "      <td>29.0</td>\n",
       "      <td>W</td>\n",
       "      <td>2755</td>\n",
       "      <td>404.0</td>\n",
       "      <td>150.0</td>\n",
       "      <td>mastercard</td>\n",
       "      <td>102.0</td>\n",
       "      <td>...</td>\n",
       "      <td>NaN</td>\n",
       "      <td>NaN</td>\n",
       "      <td>NaN</td>\n",
       "      <td>NaN</td>\n",
       "      <td>NaN</td>\n",
       "      <td>NaN</td>\n",
       "      <td>NaN</td>\n",
       "      <td>NaN</td>\n",
       "      <td>NaN</td>\n",
       "      <td>NaN</td>\n",
       "    </tr>\n",
       "    <tr>\n",
       "      <th>2</th>\n",
       "      <td>2987002</td>\n",
       "      <td>0</td>\n",
       "      <td>86469</td>\n",
       "      <td>59.0</td>\n",
       "      <td>W</td>\n",
       "      <td>4663</td>\n",
       "      <td>490.0</td>\n",
       "      <td>150.0</td>\n",
       "      <td>visa</td>\n",
       "      <td>166.0</td>\n",
       "      <td>...</td>\n",
       "      <td>NaN</td>\n",
       "      <td>NaN</td>\n",
       "      <td>NaN</td>\n",
       "      <td>NaN</td>\n",
       "      <td>NaN</td>\n",
       "      <td>NaN</td>\n",
       "      <td>NaN</td>\n",
       "      <td>NaN</td>\n",
       "      <td>NaN</td>\n",
       "      <td>NaN</td>\n",
       "    </tr>\n",
       "    <tr>\n",
       "      <th>3</th>\n",
       "      <td>2987003</td>\n",
       "      <td>0</td>\n",
       "      <td>86499</td>\n",
       "      <td>50.0</td>\n",
       "      <td>W</td>\n",
       "      <td>18132</td>\n",
       "      <td>567.0</td>\n",
       "      <td>150.0</td>\n",
       "      <td>mastercard</td>\n",
       "      <td>117.0</td>\n",
       "      <td>...</td>\n",
       "      <td>NaN</td>\n",
       "      <td>NaN</td>\n",
       "      <td>NaN</td>\n",
       "      <td>NaN</td>\n",
       "      <td>NaN</td>\n",
       "      <td>NaN</td>\n",
       "      <td>NaN</td>\n",
       "      <td>NaN</td>\n",
       "      <td>NaN</td>\n",
       "      <td>NaN</td>\n",
       "    </tr>\n",
       "    <tr>\n",
       "      <th>4</th>\n",
       "      <td>2987004</td>\n",
       "      <td>0</td>\n",
       "      <td>86506</td>\n",
       "      <td>50.0</td>\n",
       "      <td>H</td>\n",
       "      <td>4497</td>\n",
       "      <td>514.0</td>\n",
       "      <td>150.0</td>\n",
       "      <td>mastercard</td>\n",
       "      <td>102.0</td>\n",
       "      <td>...</td>\n",
       "      <td>samsung browser 6.2</td>\n",
       "      <td>32.0</td>\n",
       "      <td>2220x1080</td>\n",
       "      <td>match_status:2</td>\n",
       "      <td>1.0</td>\n",
       "      <td>0.0</td>\n",
       "      <td>1.0</td>\n",
       "      <td>1.0</td>\n",
       "      <td>mobile</td>\n",
       "      <td>SAMSUNG SM-G892A Build/NRD90M</td>\n",
       "    </tr>\n",
       "  </tbody>\n",
       "</table>\n",
       "<p>5 rows × 435 columns</p>\n",
       "</div>"
      ],
      "text/plain": [
       "   TransactionID  isFraud  TransactionDT  TransactionAmt ProductCD  card1  \\\n",
       "0        2987000        0          86400            68.5         W  13926   \n",
       "1        2987001        0          86401            29.0         W   2755   \n",
       "2        2987002        0          86469            59.0         W   4663   \n",
       "3        2987003        0          86499            50.0         W  18132   \n",
       "4        2987004        0          86506            50.0         H   4497   \n",
       "\n",
       "   card2  card3       card4  card5  ...                id_31  id_32  \\\n",
       "0    NaN  150.0    discover  142.0  ...                  NaN    NaN   \n",
       "1  404.0  150.0  mastercard  102.0  ...                  NaN    NaN   \n",
       "2  490.0  150.0        visa  166.0  ...                  NaN    NaN   \n",
       "3  567.0  150.0  mastercard  117.0  ...                  NaN    NaN   \n",
       "4  514.0  150.0  mastercard  102.0  ...  samsung browser 6.2   32.0   \n",
       "\n",
       "       id_33           id_34  id_35 id_36 id_37  id_38  DeviceType  \\\n",
       "0        NaN             NaN    NaN   NaN   NaN    NaN         NaN   \n",
       "1        NaN             NaN    NaN   NaN   NaN    NaN         NaN   \n",
       "2        NaN             NaN    NaN   NaN   NaN    NaN         NaN   \n",
       "3        NaN             NaN    NaN   NaN   NaN    NaN         NaN   \n",
       "4  2220x1080  match_status:2    1.0   0.0   1.0    1.0      mobile   \n",
       "\n",
       "                      DeviceInfo  \n",
       "0                            NaN  \n",
       "1                            NaN  \n",
       "2                            NaN  \n",
       "3                            NaN  \n",
       "4  SAMSUNG SM-G892A Build/NRD90M  \n",
       "\n",
       "[5 rows x 435 columns]"
      ]
     },
     "execution_count": 6,
     "metadata": {},
     "output_type": "execute_result"
    }
   ],
   "source": [
    "dataset.head()"
   ]
  },
  {
   "cell_type": "code",
   "execution_count": 7,
   "metadata": {},
   "outputs": [],
   "source": [
    "def coeff_of_determination(X,Y):\n",
    "    # Model Intialization\n",
    "    reg = LinearRegression()\n",
    "    # Data Fitting\n",
    "    reg = reg.fit(X, Y)\n",
    "\n",
    "    # Model Evaluation\n",
    "    r2 = reg.score(X, Y)\n",
    "    return r2"
   ]
  },
  {
   "cell_type": "code",
   "execution_count": 8,
   "metadata": {},
   "outputs": [
    {
     "data": {
      "text/plain": [
       "0.0013461555872830155"
      ]
     },
     "execution_count": 8,
     "metadata": {},
     "output_type": "execute_result"
    }
   ],
   "source": [
    "X = np.array([dataset.card1, dataset.C1, dataset.TransactionDay]).T\n",
    "Y = np.array(dataset.isFraud)\n",
    "coeff_of_determination(X,Y)"
   ]
  },
  {
   "cell_type": "code",
   "execution_count": 9,
   "metadata": {},
   "outputs": [
    {
     "data": {
      "text/plain": [
       "0.006447940482810721"
      ]
     },
     "execution_count": 9,
     "metadata": {},
     "output_type": "execute_result"
    }
   ],
   "source": [
    "X = np.array([dataset.card1, dataset.C1, dataset.C2, dataset.C3, dataset.C4]).T\n",
    "Y = np.array(dataset.isFraud)\n",
    "coeff_of_determination(X,Y)"
   ]
  },
  {
   "cell_type": "code",
   "execution_count": 10,
   "metadata": {},
   "outputs": [
    {
     "data": {
      "text/plain": [
       "0.0011253907612214231"
      ]
     },
     "execution_count": 10,
     "metadata": {},
     "output_type": "execute_result"
    }
   ],
   "source": [
    "X = np.array([dataset.card1, dataset.C1,dataset.D1.fillna(999999)]).T\n",
    "Y = np.array(dataset.isFraud)\n",
    "coeff_of_determination(X,Y)"
   ]
  },
  {
   "cell_type": "code",
   "execution_count": 11,
   "metadata": {},
   "outputs": [
    {
     "data": {
      "text/plain": [
       "0.00023362414451610913"
      ]
     },
     "execution_count": 11,
     "metadata": {},
     "output_type": "execute_result"
    }
   ],
   "source": [
    "X = np.array([dataset.card1, dataset.C3]).T\n",
    "Y = np.array(dataset.isFraud)\n",
    "coeff_of_determination(X,Y)"
   ]
  },
  {
   "cell_type": "code",
   "execution_count": 12,
   "metadata": {},
   "outputs": [],
   "source": [
    "mapValuesCD = {'W': 1, 'H': 2, 'C': 3, 'S': 4, 'R': 5}\n",
    "dataset['ProductCD'] = dataset['ProductCD'].map(mapValuesCD)"
   ]
  },
  {
   "cell_type": "code",
   "execution_count": 13,
   "metadata": {},
   "outputs": [
    {
     "data": {
      "text/plain": [
       "0.011202165401961173"
      ]
     },
     "execution_count": 13,
     "metadata": {},
     "output_type": "execute_result"
    }
   ],
   "source": [
    "X = np.array([dataset.card1,dataset.C1,dataset.ProductCD]).T\n",
    "Y = np.array(dataset.isFraud)\n",
    "coeff_of_determination(X,Y)"
   ]
  },
  {
   "cell_type": "code",
   "execution_count": 14,
   "metadata": {},
   "outputs": [
    {
     "data": {
      "text/plain": [
       "0.008722178048638174"
      ]
     },
     "execution_count": 14,
     "metadata": {},
     "output_type": "execute_result"
    }
   ],
   "source": [
    "X = np.array([dataset.card1,dataset.C1,dataset.V1.fillna(999999)]).T\n",
    "Y = np.array(dataset.isFraud)\n",
    "coeff_of_determination(X,Y)"
   ]
  },
  {
   "cell_type": "code",
   "execution_count": 15,
   "metadata": {},
   "outputs": [
    {
     "data": {
      "text/html": [
       "<table class=\"simpletable\">\n",
       "<caption>OLS Regression Results</caption>\n",
       "<tr>\n",
       "  <th>Dep. Variable:</th>         <td>isFraud</td>     <th>  R-squared:         </th>  <td>   0.008</td> \n",
       "</tr>\n",
       "<tr>\n",
       "  <th>Model:</th>                   <td>OLS</td>       <th>  Adj. R-squared:    </th>  <td>   0.008</td> \n",
       "</tr>\n",
       "<tr>\n",
       "  <th>Method:</th>             <td>Least Squares</td>  <th>  F-statistic:       </th>  <td>   654.7</td> \n",
       "</tr>\n",
       "<tr>\n",
       "  <th>Date:</th>             <td>Wed, 18 Dec 2019</td> <th>  Prob (F-statistic):</th>   <td>  0.00</td>  \n",
       "</tr>\n",
       "<tr>\n",
       "  <th>Time:</th>                 <td>02:34:45</td>     <th>  Log-Likelihood:    </th> <td>1.6481e+05</td>\n",
       "</tr>\n",
       "<tr>\n",
       "  <th>No. Observations:</th>      <td>590540</td>      <th>  AIC:               </th> <td>-3.296e+05</td>\n",
       "</tr>\n",
       "<tr>\n",
       "  <th>Df Residuals:</th>          <td>590532</td>      <th>  BIC:               </th> <td>-3.295e+05</td>\n",
       "</tr>\n",
       "<tr>\n",
       "  <th>Df Model:</th>              <td>     7</td>      <th>                     </th>      <td> </td>    \n",
       "</tr>\n",
       "<tr>\n",
       "  <th>Covariance Type:</th>      <td>nonrobust</td>    <th>                     </th>      <td> </td>    \n",
       "</tr>\n",
       "</table>\n",
       "<table class=\"simpletable\">\n",
       "<tr>\n",
       "      <td></td>         <th>coef</th>     <th>std err</th>      <th>t</th>      <th>P>|t|</th>  <th>[0.025</th>    <th>0.975]</th>  \n",
       "</tr>\n",
       "<tr>\n",
       "  <th>Intercept</th> <td>    0.0405</td> <td>    0.001</td> <td>   75.012</td> <td> 0.000</td> <td>    0.039</td> <td>    0.042</td>\n",
       "</tr>\n",
       "<tr>\n",
       "  <th>card1</th>     <td>-4.996e-07</td> <td> 4.86e-08</td> <td>  -10.279</td> <td> 0.000</td> <td>-5.95e-07</td> <td>-4.04e-07</td>\n",
       "</tr>\n",
       "<tr>\n",
       "  <th>C1</th>        <td>   -0.0006</td> <td>  2.2e-05</td> <td>  -25.619</td> <td> 0.000</td> <td>   -0.001</td> <td>   -0.001</td>\n",
       "</tr>\n",
       "<tr>\n",
       "  <th>C2</th>        <td>    0.0008</td> <td> 1.73e-05</td> <td>   47.433</td> <td> 0.000</td> <td>    0.001</td> <td>    0.001</td>\n",
       "</tr>\n",
       "<tr>\n",
       "  <th>C3</th>        <td>   -0.0085</td> <td>    0.002</td> <td>   -5.388</td> <td> 0.000</td> <td>   -0.012</td> <td>   -0.005</td>\n",
       "</tr>\n",
       "<tr>\n",
       "  <th>C4</th>        <td>   -0.0004</td> <td> 3.07e-05</td> <td>  -11.754</td> <td> 0.000</td> <td>   -0.000</td> <td>   -0.000</td>\n",
       "</tr>\n",
       "<tr>\n",
       "  <th>C5</th>        <td>   -0.0002</td> <td> 2.14e-05</td> <td>   -8.483</td> <td> 0.000</td> <td>   -0.000</td> <td>   -0.000</td>\n",
       "</tr>\n",
       "<tr>\n",
       "  <th>C6</th>        <td>   -0.0003</td> <td> 3.03e-05</td> <td>   -9.610</td> <td> 0.000</td> <td>   -0.000</td> <td>   -0.000</td>\n",
       "</tr>\n",
       "</table>\n",
       "<table class=\"simpletable\">\n",
       "<tr>\n",
       "  <th>Omnibus:</th>       <td>567659.541</td> <th>  Durbin-Watson:     </th>   <td>   1.915</td>  \n",
       "</tr>\n",
       "<tr>\n",
       "  <th>Prob(Omnibus):</th>   <td> 0.000</td>   <th>  Jarque-Bera (JB):  </th> <td>15998469.518</td>\n",
       "</tr>\n",
       "<tr>\n",
       "  <th>Skew:</th>            <td> 5.016</td>   <th>  Prob(JB):          </th>   <td>    0.00</td>  \n",
       "</tr>\n",
       "<tr>\n",
       "  <th>Kurtosis:</th>        <td>26.442</td>   <th>  Cond. No.          </th>   <td>7.34e+04</td>  \n",
       "</tr>\n",
       "</table><br/><br/>Warnings:<br/>[1] Standard Errors assume that the covariance matrix of the errors is correctly specified.<br/>[2] The condition number is large, 7.34e+04. This might indicate that there are<br/>strong multicollinearity or other numerical problems."
      ],
      "text/plain": [
       "<class 'statsmodels.iolib.summary.Summary'>\n",
       "\"\"\"\n",
       "                            OLS Regression Results                            \n",
       "==============================================================================\n",
       "Dep. Variable:                isFraud   R-squared:                       0.008\n",
       "Model:                            OLS   Adj. R-squared:                  0.008\n",
       "Method:                 Least Squares   F-statistic:                     654.7\n",
       "Date:                Wed, 18 Dec 2019   Prob (F-statistic):               0.00\n",
       "Time:                        02:34:45   Log-Likelihood:             1.6481e+05\n",
       "No. Observations:              590540   AIC:                        -3.296e+05\n",
       "Df Residuals:                  590532   BIC:                        -3.295e+05\n",
       "Df Model:                           7                                         \n",
       "Covariance Type:            nonrobust                                         \n",
       "==============================================================================\n",
       "                 coef    std err          t      P>|t|      [0.025      0.975]\n",
       "------------------------------------------------------------------------------\n",
       "Intercept      0.0405      0.001     75.012      0.000       0.039       0.042\n",
       "card1      -4.996e-07   4.86e-08    -10.279      0.000   -5.95e-07   -4.04e-07\n",
       "C1            -0.0006    2.2e-05    -25.619      0.000      -0.001      -0.001\n",
       "C2             0.0008   1.73e-05     47.433      0.000       0.001       0.001\n",
       "C3            -0.0085      0.002     -5.388      0.000      -0.012      -0.005\n",
       "C4            -0.0004   3.07e-05    -11.754      0.000      -0.000      -0.000\n",
       "C5            -0.0002   2.14e-05     -8.483      0.000      -0.000      -0.000\n",
       "C6            -0.0003   3.03e-05     -9.610      0.000      -0.000      -0.000\n",
       "==============================================================================\n",
       "Omnibus:                   567659.541   Durbin-Watson:                   1.915\n",
       "Prob(Omnibus):                  0.000   Jarque-Bera (JB):         15998469.518\n",
       "Skew:                           5.016   Prob(JB):                         0.00\n",
       "Kurtosis:                      26.442   Cond. No.                     7.34e+04\n",
       "==============================================================================\n",
       "\n",
       "Warnings:\n",
       "[1] Standard Errors assume that the covariance matrix of the errors is correctly specified.\n",
       "[2] The condition number is large, 7.34e+04. This might indicate that there are\n",
       "strong multicollinearity or other numerical problems.\n",
       "\"\"\""
      ]
     },
     "execution_count": 15,
     "metadata": {},
     "output_type": "execute_result"
    }
   ],
   "source": [
    "#Using Ordinary Least Squared method to get R-squared\n",
    "reg = smf.ols(formula = \"isFraud ~ card1+C1+C2+C3+C4+C5+C6\", data = dataset).fit()\n",
    "reg.summary()"
   ]
  },
  {
   "cell_type": "code",
   "execution_count": 16,
   "metadata": {},
   "outputs": [
    {
     "data": {
      "text/html": [
       "<table class=\"simpletable\">\n",
       "<caption>OLS Regression Results</caption>\n",
       "<tr>\n",
       "  <th>Dep. Variable:</th>         <td>isFraud</td>     <th>  R-squared:         </th>  <td>   0.000</td> \n",
       "</tr>\n",
       "<tr>\n",
       "  <th>Model:</th>                   <td>OLS</td>       <th>  Adj. R-squared:    </th>  <td>   0.000</td> \n",
       "</tr>\n",
       "<tr>\n",
       "  <th>Method:</th>             <td>Least Squares</td>  <th>  F-statistic:       </th>  <td>   109.9</td> \n",
       "</tr>\n",
       "<tr>\n",
       "  <th>Date:</th>             <td>Wed, 18 Dec 2019</td> <th>  Prob (F-statistic):</th>  <td>1.04e-25</td> \n",
       "</tr>\n",
       "<tr>\n",
       "  <th>Time:</th>                 <td>02:34:47</td>     <th>  Log-Likelihood:    </th> <td>1.6258e+05</td>\n",
       "</tr>\n",
       "<tr>\n",
       "  <th>No. Observations:</th>      <td>590540</td>      <th>  AIC:               </th> <td>-3.252e+05</td>\n",
       "</tr>\n",
       "<tr>\n",
       "  <th>Df Residuals:</th>          <td>590538</td>      <th>  BIC:               </th> <td>-3.251e+05</td>\n",
       "</tr>\n",
       "<tr>\n",
       "  <th>Df Model:</th>              <td>     1</td>      <th>                     </th>      <td> </td>    \n",
       "</tr>\n",
       "<tr>\n",
       "  <th>Covariance Type:</th>      <td>nonrobust</td>    <th>                     </th>      <td> </td>    \n",
       "</tr>\n",
       "</table>\n",
       "<table class=\"simpletable\">\n",
       "<tr>\n",
       "      <td></td>         <th>coef</th>     <th>std err</th>      <th>t</th>      <th>P>|t|</th>  <th>[0.025</th>    <th>0.975]</th>  \n",
       "</tr>\n",
       "<tr>\n",
       "  <th>Intercept</th> <td>    0.0401</td> <td>    0.001</td> <td>   74.329</td> <td> 0.000</td> <td>    0.039</td> <td>    0.041</td>\n",
       "</tr>\n",
       "<tr>\n",
       "  <th>card1</th>     <td>-5.114e-07</td> <td> 4.88e-08</td> <td>  -10.483</td> <td> 0.000</td> <td>-6.07e-07</td> <td>-4.16e-07</td>\n",
       "</tr>\n",
       "</table>\n",
       "<table class=\"simpletable\">\n",
       "<tr>\n",
       "  <th>Omnibus:</th>       <td>570877.668</td> <th>  Durbin-Watson:     </th>   <td>   1.915</td>  \n",
       "</tr>\n",
       "<tr>\n",
       "  <th>Prob(Omnibus):</th>   <td> 0.000</td>   <th>  Jarque-Bera (JB):  </th> <td>16232378.519</td>\n",
       "</tr>\n",
       "<tr>\n",
       "  <th>Skew:</th>            <td> 5.060</td>   <th>  Prob(JB):          </th>   <td>    0.00</td>  \n",
       "</tr>\n",
       "<tr>\n",
       "  <th>Kurtosis:</th>        <td>26.607</td>   <th>  Cond. No.          </th>   <td>2.49e+04</td>  \n",
       "</tr>\n",
       "</table><br/><br/>Warnings:<br/>[1] Standard Errors assume that the covariance matrix of the errors is correctly specified.<br/>[2] The condition number is large, 2.49e+04. This might indicate that there are<br/>strong multicollinearity or other numerical problems."
      ],
      "text/plain": [
       "<class 'statsmodels.iolib.summary.Summary'>\n",
       "\"\"\"\n",
       "                            OLS Regression Results                            \n",
       "==============================================================================\n",
       "Dep. Variable:                isFraud   R-squared:                       0.000\n",
       "Model:                            OLS   Adj. R-squared:                  0.000\n",
       "Method:                 Least Squares   F-statistic:                     109.9\n",
       "Date:                Wed, 18 Dec 2019   Prob (F-statistic):           1.04e-25\n",
       "Time:                        02:34:47   Log-Likelihood:             1.6258e+05\n",
       "No. Observations:              590540   AIC:                        -3.252e+05\n",
       "Df Residuals:                  590538   BIC:                        -3.251e+05\n",
       "Df Model:                           1                                         \n",
       "Covariance Type:            nonrobust                                         \n",
       "==============================================================================\n",
       "                 coef    std err          t      P>|t|      [0.025      0.975]\n",
       "------------------------------------------------------------------------------\n",
       "Intercept      0.0401      0.001     74.329      0.000       0.039       0.041\n",
       "card1      -5.114e-07   4.88e-08    -10.483      0.000   -6.07e-07   -4.16e-07\n",
       "==============================================================================\n",
       "Omnibus:                   570877.668   Durbin-Watson:                   1.915\n",
       "Prob(Omnibus):                  0.000   Jarque-Bera (JB):         16232378.519\n",
       "Skew:                           5.060   Prob(JB):                         0.00\n",
       "Kurtosis:                      26.607   Cond. No.                     2.49e+04\n",
       "==============================================================================\n",
       "\n",
       "Warnings:\n",
       "[1] Standard Errors assume that the covariance matrix of the errors is correctly specified.\n",
       "[2] The condition number is large, 2.49e+04. This might indicate that there are\n",
       "strong multicollinearity or other numerical problems.\n",
       "\"\"\""
      ]
     },
     "execution_count": 16,
     "metadata": {},
     "output_type": "execute_result"
    }
   ],
   "source": [
    "#Using Ordinary Least Squared method to get R-squared\n",
    "reg = smf.ols(formula = \"isFraud ~ card1\", data = dataset).fit()\n",
    "reg.summary()"
   ]
  },
  {
   "cell_type": "code",
   "execution_count": 17,
   "metadata": {},
   "outputs": [
    {
     "data": {
      "text/html": [
       "<table class=\"simpletable\">\n",
       "<caption>OLS Regression Results</caption>\n",
       "<tr>\n",
       "  <th>Dep. Variable:</th>         <td>isFraud</td>     <th>  R-squared:         </th>  <td>   0.001</td> \n",
       "</tr>\n",
       "<tr>\n",
       "  <th>Model:</th>                   <td>OLS</td>       <th>  Adj. R-squared:    </th>  <td>   0.001</td> \n",
       "</tr>\n",
       "<tr>\n",
       "  <th>Method:</th>             <td>Least Squares</td>  <th>  F-statistic:       </th>  <td>   552.4</td> \n",
       "</tr>\n",
       "<tr>\n",
       "  <th>Date:</th>             <td>Wed, 18 Dec 2019</td> <th>  Prob (F-statistic):</th>  <td>4.35e-122</td>\n",
       "</tr>\n",
       "<tr>\n",
       "  <th>Time:</th>                 <td>02:34:53</td>     <th>  Log-Likelihood:    </th> <td>1.6280e+05</td>\n",
       "</tr>\n",
       "<tr>\n",
       "  <th>No. Observations:</th>      <td>590540</td>      <th>  AIC:               </th> <td>-3.256e+05</td>\n",
       "</tr>\n",
       "<tr>\n",
       "  <th>Df Residuals:</th>          <td>590538</td>      <th>  BIC:               </th> <td>-3.256e+05</td>\n",
       "</tr>\n",
       "<tr>\n",
       "  <th>Df Model:</th>              <td>     1</td>      <th>                     </th>      <td> </td>    \n",
       "</tr>\n",
       "<tr>\n",
       "  <th>Covariance Type:</th>      <td>nonrobust</td>    <th>                     </th>      <td> </td>    \n",
       "</tr>\n",
       "</table>\n",
       "<table class=\"simpletable\">\n",
       "<tr>\n",
       "      <td></td>         <th>coef</th>     <th>std err</th>      <th>t</th>      <th>P>|t|</th>  <th>[0.025</th>    <th>0.975]</th>  \n",
       "</tr>\n",
       "<tr>\n",
       "  <th>Intercept</th> <td>    0.0344</td> <td>    0.000</td> <td>  143.123</td> <td> 0.000</td> <td>    0.034</td> <td>    0.035</td>\n",
       "</tr>\n",
       "<tr>\n",
       "  <th>C1</th>        <td> 4.206e-05</td> <td> 1.79e-06</td> <td>   23.503</td> <td> 0.000</td> <td> 3.85e-05</td> <td> 4.56e-05</td>\n",
       "</tr>\n",
       "</table>\n",
       "<table class=\"simpletable\">\n",
       "<tr>\n",
       "  <th>Omnibus:</th>       <td>570488.355</td> <th>  Durbin-Watson:     </th>   <td>   1.915</td>  \n",
       "</tr>\n",
       "<tr>\n",
       "  <th>Prob(Omnibus):</th>   <td> 0.000</td>   <th>  Jarque-Bera (JB):  </th> <td>16200026.346</td>\n",
       "</tr>\n",
       "<tr>\n",
       "  <th>Skew:</th>            <td> 5.055</td>   <th>  Prob(JB):          </th>   <td>    0.00</td>  \n",
       "</tr>\n",
       "<tr>\n",
       "  <th>Kurtosis:</th>        <td>26.584</td>   <th>  Cond. No.          </th>   <td>    135.</td>  \n",
       "</tr>\n",
       "</table><br/><br/>Warnings:<br/>[1] Standard Errors assume that the covariance matrix of the errors is correctly specified."
      ],
      "text/plain": [
       "<class 'statsmodels.iolib.summary.Summary'>\n",
       "\"\"\"\n",
       "                            OLS Regression Results                            \n",
       "==============================================================================\n",
       "Dep. Variable:                isFraud   R-squared:                       0.001\n",
       "Model:                            OLS   Adj. R-squared:                  0.001\n",
       "Method:                 Least Squares   F-statistic:                     552.4\n",
       "Date:                Wed, 18 Dec 2019   Prob (F-statistic):          4.35e-122\n",
       "Time:                        02:34:53   Log-Likelihood:             1.6280e+05\n",
       "No. Observations:              590540   AIC:                        -3.256e+05\n",
       "Df Residuals:                  590538   BIC:                        -3.256e+05\n",
       "Df Model:                           1                                         \n",
       "Covariance Type:            nonrobust                                         \n",
       "==============================================================================\n",
       "                 coef    std err          t      P>|t|      [0.025      0.975]\n",
       "------------------------------------------------------------------------------\n",
       "Intercept      0.0344      0.000    143.123      0.000       0.034       0.035\n",
       "C1          4.206e-05   1.79e-06     23.503      0.000    3.85e-05    4.56e-05\n",
       "==============================================================================\n",
       "Omnibus:                   570488.355   Durbin-Watson:                   1.915\n",
       "Prob(Omnibus):                  0.000   Jarque-Bera (JB):         16200026.346\n",
       "Skew:                           5.055   Prob(JB):                         0.00\n",
       "Kurtosis:                      26.584   Cond. No.                         135.\n",
       "==============================================================================\n",
       "\n",
       "Warnings:\n",
       "[1] Standard Errors assume that the covariance matrix of the errors is correctly specified.\n",
       "\"\"\""
      ]
     },
     "execution_count": 17,
     "metadata": {},
     "output_type": "execute_result"
    }
   ],
   "source": [
    "#Using Ordinary Least Squared method to get R-squared\n",
    "reg = smf.ols(formula = \"isFraud ~ C1\", data = dataset).fit()\n",
    "reg.summary()"
   ]
  },
  {
   "cell_type": "markdown",
   "metadata": {},
   "source": [
    "__Q] What are the most appropriate tests to use to analyze these relationships?__\n",
    "\n",
    "__A]__ "
   ]
  }
 ],
 "metadata": {
  "kernelspec": {
   "display_name": "Python 3",
   "language": "python",
   "name": "python3"
  },
  "language_info": {
   "codemirror_mode": {
    "name": "ipython",
    "version": 3
   },
   "file_extension": ".py",
   "mimetype": "text/x-python",
   "name": "python",
   "nbconvert_exporter": "python",
   "pygments_lexer": "ipython3",
   "version": "3.7.3"
  }
 },
 "nbformat": 4,
 "nbformat_minor": 2
}
